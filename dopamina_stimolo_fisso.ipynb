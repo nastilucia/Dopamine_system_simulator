{
 "cells": [
  {
   "cell_type": "code",
   "execution_count": 1,
   "metadata": {},
   "outputs": [],
   "source": [
    "import networkx as nx\n",
    "import matplotlib.pyplot as plt\n",
    "import numpy as np\n",
    "import scipy as sc"
   ]
  },
  {
   "cell_type": "markdown",
   "metadata": {},
   "source": [
    "## USER DEFINITION"
   ]
  },
  {
   "cell_type": "code",
   "execution_count": 2,
   "metadata": {},
   "outputs": [],
   "source": [
    "%load_ext Cython"
   ]
  },
  {
   "cell_type": "code",
   "execution_count": 3,
   "metadata": {
    "scrolled": false
   },
   "outputs": [],
   "source": [
    "%%cython\n",
    "\n",
    "cdef extern from \"stdlib.h\":\n",
    "    double drand48()\n",
    "\n",
    "class User(object):\n",
    "    THRESHOLD = 80\n",
    "    K = 0.2 #basal production of dopamine \n",
    "    DELTA = 0.0001\n",
    "\n",
    "    def __init__(self, id, d=0.2, m=0):\n",
    "        self._id = int(id)\n",
    "        self._d = float(d)\n",
    "        self._m = float(m)\n",
    "        self._r = 0\n",
    "        self._dip = 0\n",
    "        self._propensity_factor = 0.2\n",
    "        self._count_mess_sent = 0\n",
    "        self._count_answer_received = 0\n",
    "\n",
    "    def __repr__(self):\n",
    "        return \"User {}\".format(self._id)\n",
    "\n",
    "    @staticmethod\n",
    "    def update_status(u, n_rounds):\n",
    "        DELTA = User.DELTA\n",
    "        K = User.K\n",
    "        THRESHOLD = User.THRESHOLD\n",
    "        COMP_STIM = User._compute_stimulus\n",
    "        COMP_RECA = User._compute_recall\n",
    "\n",
    "        cdef float d = u._d\n",
    "        cdef float m = u._m\n",
    "        cdef float r = u._r\n",
    "\n",
    "        for i in range(n_rounds):\n",
    "            d = d + (( -d + COMP_STIM(d, m, r, THRESHOLD) + K)* DELTA * 0.3 )\n",
    "            m = m + (( -m + COMP_RECA(m, r)) * DELTA * 0.3 )          \n",
    "\n",
    "        u._d = d\n",
    "        u._m = m\n",
    "        u._r = r\n",
    "\n",
    "    @staticmethod\n",
    "    def _compute_stimulus(d, m, r, threshold): #\n",
    "        cdef float diff = r - m\n",
    "        if -30 <= diff < threshold:\n",
    "            return 0.0\n",
    "        elif threshold <= diff:\n",
    "            return 1.0\n",
    "        else:\n",
    "            return -(m * d)/ 2.0\n",
    "\n",
    "    @staticmethod\n",
    "    def _compute_recall (m, r):\n",
    "        cdef float diff = r - m\n",
    "        if diff > 0:\n",
    "            return diff / 2.0\n",
    "        else:\n",
    "            return 0.0\n",
    "    \n",
    "    def update_impulsus(u, r): #update reward \n",
    "            u._r = r\n",
    "    \n",
    "\n",
    "   "
   ]
  },
  {
   "cell_type": "markdown",
   "metadata": {},
   "source": [
    "## SIMULATION"
   ]
  },
  {
   "cell_type": "code",
   "execution_count": 4,
   "metadata": {
    "scrolled": false
   },
   "outputs": [],
   "source": [
    "# simulation\n",
    "from time import time as now\n",
    "from sys import stdout\n",
    "\n",
    "\n",
    "dop=[] #array dopamine\n",
    "n_rounds=50 #50 days\n",
    "u=User(1) #user instance \n",
    "step= float(50.0/250.0) #step for Euler method\n",
    "\n",
    "\n",
    "for day in np.arange(0, n_rounds, step):\n",
    "    dop.append(u._d) #u._d -> user's dopamine level\n",
    "    User.update_status(u, 5000)\n",
    "    \n",
    "    if day <=25:\n",
    "        User.update_impulsus(u, 100) #update reward-> max level of reward for the first 25 days\n",
    "        \n",
    "    else:\n",
    "        User.update_impulsus(u, 0) #reward=0 to simulate withdrawal symptoms\n",
    "          \n",
    "        \n",
    "\n",
    "time=[]\n",
    "for i in range(0,len(dop)):\n",
    "        i=(i/5.0)\n",
    "        time.append(i)"
   ]
  },
  {
   "cell_type": "code",
   "execution_count": 5,
   "metadata": {},
   "outputs": [
    {
     "data": {
      "image/png": "[encoded data removed]",
      "text/plain": [
       "<Figure size 432x288 with 1 Axes>"
      ]
     },
     "metadata": {
      "needs_background": "light"
     },
     "output_type": "display_data"
    }
   ],
   "source": [
    "#Plot dopamine in 50 days\n",
    "\n",
    "plt.plot(time, dop, \"+\", label=\"dopamina\")\n",
    "plt.xlabel(\"Time\")\n",
    "plt.ylabel(\"Concentration\")\n",
    "plt.legend();"
   ]
  },
  {
   "cell_type": "raw",
   "metadata": {},
   "source": [
    "for giorno in np.arange(0, 50, step):\n",
    "\n",
    "    dop.append(u._m)\n",
    "    User.update_status(u, 1)\n",
    "    #print giorno, u._r, u._d, u._m\n",
    "    #print giorno\n",
    "    if giorno <=25:\n",
    "        User.update_impulsus(u, 100)\n",
    "        \n",
    "    else:\n",
    "        User.update_impulsus(u, 0)\n",
    "        #User.update_status(u, 1)\n",
    "    \n",
    "    \n",
    "    #print u._r, u._d   "
   ]
  }
 ],
 "metadata": {
  "anaconda-cloud": {},
  "kernelspec": {
   "display_name": "Python 2",
   "language": "python",
   "name": "python2"
  },
  "language_info": {
   "codemirror_mode": {
    "name": "ipython",
    "version": 2
   },
   "file_extension": ".py",
   "mimetype": "text/x-python",
   "name": "python",
   "nbconvert_exporter": "python",
   "pygments_lexer": "ipython2",
   "version": "2.7.18"
  }
 },
 "nbformat": 4,
 "nbformat_minor": 2
}
